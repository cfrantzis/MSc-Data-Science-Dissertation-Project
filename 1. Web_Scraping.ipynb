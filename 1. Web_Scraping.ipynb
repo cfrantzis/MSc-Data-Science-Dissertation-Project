{
 "cells": [
  {
   "cell_type": "markdown",
   "source": [
    "# **Web Scraping with Beautifoul Soup**"
   ],
   "metadata": {}
  },
  {
   "cell_type": "markdown",
   "source": [
    "## **FifaIndex.com screenshot from 10/11 season**\r\n",
    "---"
   ],
   "metadata": {}
  },
  {
   "cell_type": "markdown",
   "source": [
    "![Website Screenshot](https://i.ibb.co/C9LtmwF/fifaindex.jpg)"
   ],
   "metadata": {}
  },
  {
   "cell_type": "markdown",
   "source": [
    "## **Custom function for scraping data with Beautiful Soup**\r\n",
    "---"
   ],
   "metadata": {}
  },
  {
   "cell_type": "markdown",
   "source": [
    "![Website HTML Screenshot](https://i.ibb.co/sWshT3J/fifaindex-html-page.jpg)"
   ],
   "metadata": {}
  },
  {
   "cell_type": "code",
   "execution_count": 1,
   "source": [
    "def ratings_export(link):\r\n",
    "\r\n",
    "    \"\"\" Extract Attack, Midfield, Defence & Overall team ratings from fifaindex.com website\r\n",
    "    and return a dictionary with team names as keys and a list of ratings as each key value \"\"\"\r\n",
    "\r\n",
    "    \r\n",
    "    import requests\r\n",
    "    from bs4 import BeautifulSoup # might need to install it first: pip install BeautifulSoup4  \r\n",
    "\r\n",
    "    page = requests.get(link)\r\n",
    "    soup = BeautifulSoup(page.content, 'html.parser')\r\n",
    "\r\n",
    "    new_data1=[]\r\n",
    "    new_data2=[]\r\n",
    "\r\n",
    "    data1 = [element.text for element in soup.find_all(class_=\"badge badge-dark rating r2\")] # extracting group:r2 of team ratings from HTML page\r\n",
    "    j=0\r\n",
    "    while j<len(data1):\r\n",
    "        new_data1.append(data1[j:j+4])\r\n",
    "        j+=4\r\n",
    "\r\n",
    "    data2 = [element.text for element in soup.find_all(class_=\"badge badge-dark rating r3\")] # extracting group:r3 of team ratings from HTML page\r\n",
    "    i=0\r\n",
    "    while i<len(data2):\r\n",
    "        new_data2.append(data2[i:i+4])\r\n",
    "        i+=4\r\n",
    "    \r\n",
    "    ranking_data = new_data1 + new_data2 # combining different lists of ratings to a single list\r\n",
    "\r\n",
    "    team_data = [element.text for element in soup.find_all(class_=\"link-team\")] # extracting team names from HTML page \r\n",
    "    team_data = [v for i, v in enumerate(team_data) if i % 2 != 0] # removing not required data from the list\r\n",
    "\r\n",
    "    finaldict = dict(zip(team_data, ranking_data)) # combining team names to their respective ratings\r\n",
    "\r\n",
    "    return finaldict   "
   ],
   "outputs": [],
   "metadata": {}
  },
  {
   "cell_type": "markdown",
   "source": [
    "## **Data extraction from multiple seasons**\r\n",
    "---"
   ],
   "metadata": {}
  },
  {
   "cell_type": "code",
   "execution_count": 2,
   "source": [
    "seasons = ['10/11', '11/12', '12/13', '13/14', '14/15', '15/16', '16/17', '17/18', '18/19', '19/20']\r\n",
    "# fifa index website links with each season\r\n",
    "season_links = ['https://www.fifaindex.com/teams/fifa11_7/?league=13&order=desc',\r\n",
    "                'https://www.fifaindex.com/teams/fifa12_9/?league=13&order=desc',\r\n",
    "                'https://www.fifaindex.com/teams/fifa13_10/?league=13&order=desc',\r\n",
    "                'https://www.fifaindex.com/teams/fifa14_13/?league=13&order=desc',\r\n",
    "                'https://www.fifaindex.com/teams/fifa15_14/?league=13&order=desc',\r\n",
    "                'https://www.fifaindex.com/teams/fifa16_73/?league=13&order=desc',\r\n",
    "                'https://www.fifaindex.com/teams/fifa17_173/?league=13&order=desc',\r\n",
    "                'https://www.fifaindex.com/teams/fifa18_278/?league=13&order=desc',\r\n",
    "                'https://www.fifaindex.com/teams/fifa19_353/?league=13&order=desc',\r\n",
    "                'https://www.fifaindex.com/teams/fifa20_419/?league=13&order=desc',]"
   ],
   "outputs": [],
   "metadata": {}
  },
  {
   "cell_type": "code",
   "execution_count": 3,
   "source": [
    "team_ratings_per_season = {}\r\n",
    "\r\n",
    "for index, link in enumerate(season_links):\r\n",
    "    team_ratings_per_season[\"%s\" %seasons[index]] = ratings_export(link) # create nested dictionary"
   ],
   "outputs": [],
   "metadata": {}
  },
  {
   "cell_type": "code",
   "execution_count": 4,
   "source": [
    "for k in sorted(team_ratings_per_season):\r\n",
    "   print(k, \":\")\r\n",
    "   # check if all teams have 4 unique ratings\r\n",
    "   print(\"Does each team have 4 unique ratings?\", all(len(val)==4 for val in team_ratings_per_season[k].values()))\r\n",
    "   for key, value in team_ratings_per_season[k].items():\r\n",
    "      if len(value) < 4:\r\n",
    "         print(key, \":\", value)\r\n",
    "   print(\"No of teams:\", len(team_ratings_per_season[k]))\r\n",
    "   print('')"
   ],
   "outputs": [
    {
     "output_type": "stream",
     "name": "stdout",
     "text": [
      "10/11 :\n",
      "Does each team have 4 unique ratings? False\n",
      "Everton : ['80']\n",
      "No of teams: 20\n",
      "\n",
      "11/12 :\n",
      "Does each team have 4 unique ratings? True\n",
      "No of teams: 19\n",
      "\n",
      "12/13 :\n",
      "Does each team have 4 unique ratings? False\n",
      "Arsenal : ['80', '80', '81']\n",
      "No of teams: 19\n",
      "\n",
      "13/14 :\n",
      "Does each team have 4 unique ratings? False\n",
      "Tottenham Hotspur : ['80']\n",
      "No of teams: 20\n",
      "\n",
      "14/15 :\n",
      "Does each team have 4 unique ratings? False\n",
      "Arsenal : ['80', '80']\n",
      "No of teams: 20\n",
      "\n",
      "15/16 :\n",
      "Does each team have 4 unique ratings? True\n",
      "No of teams: 20\n",
      "\n",
      "16/17 :\n",
      "Does each team have 4 unique ratings? False\n",
      "Leicester City : ['81']\n",
      "No of teams: 20\n",
      "\n",
      "17/18 :\n",
      "Does each team have 4 unique ratings? False\n",
      "Everton : ['80']\n",
      "No of teams: 20\n",
      "\n",
      "18/19 :\n",
      "Does each team have 4 unique ratings? False\n",
      "Everton : ['80', '80']\n",
      "No of teams: 20\n",
      "\n",
      "19/20 :\n",
      "Does each team have 4 unique ratings? False\n",
      "Leicester City : ['82', '80']\n",
      "No of teams: 20\n",
      "\n"
     ]
    }
   ],
   "metadata": {}
  },
  {
   "cell_type": "markdown",
   "source": [
    "## **Adding manually missing data & changing names to match Kaggle dataset**\r\n",
    "---"
   ],
   "metadata": {}
  },
  {
   "cell_type": "code",
   "execution_count": 5,
   "source": [
    "# adding values to meet the 4-ratings criteria\r\n",
    "team_ratings_per_season['10/11'][\"Everton\"] = ['80','79','78','78']\r\n",
    "team_ratings_per_season['11/12'][\"Arsenal\"] = ['84','82','80','81']\r\n",
    "team_ratings_per_season['12/13'][\"Southampton\"] = ['73','74','71','73']\r\n",
    "team_ratings_per_season['12/13'][\"Arsenal\"] = ['80','79','80','80']\r\n",
    "team_ratings_per_season['13/14'][\"Tottenham Hotspur\"] = ['82','79','78','81']\r\n",
    "team_ratings_per_season['14/15'][\"Arsenal\"] = ['81','80','80','80']\r\n",
    "team_ratings_per_season['16/17'][\"Leicester City\"] = ['79','78','76','78']\r\n",
    "team_ratings_per_season['17/18'][\"Everton\"] = ['77','80','79','79']\r\n",
    "team_ratings_per_season['18/19'][\"Everton\"] = ['80','79','78','79']\r\n",
    "team_ratings_per_season['19/20'][\"Leicester City\"] = ['77','78','79','78']\r\n",
    "\r\n",
    "# Changing names of 2 teams to match premier_df dataset on a different Jupyter Notebook\r\n",
    "team_ratings_per_season['17/18'][\"Brighton and Hove Albion\"] = team_ratings_per_season['17/18'].pop('Brighton & Hove Albion')\r\n",
    "team_ratings_per_season['18/19'][\"Brighton and Hove Albion\"] = team_ratings_per_season['18/19'].pop('Brighton & Hove Albion')\r\n",
    "team_ratings_per_season['19/20'][\"Brighton and Hove Albion\"] = team_ratings_per_season['19/20'].pop('Brighton & Hove Albion')\r\n",
    "team_ratings_per_season['15/16'][\"AFC Bournemouth\"] = team_ratings_per_season['15/16'].pop('Bournemouth')\r\n",
    "team_ratings_per_season['16/17'][\"AFC Bournemouth\"] = team_ratings_per_season['16/17'].pop('Bournemouth')\r\n",
    "team_ratings_per_season['17/18'][\"AFC Bournemouth\"] = team_ratings_per_season['17/18'].pop('Bournemouth')\r\n",
    "team_ratings_per_season['18/19'][\"AFC Bournemouth\"] = team_ratings_per_season['18/19'].pop('Bournemouth')"
   ],
   "outputs": [],
   "metadata": {}
  },
  {
   "cell_type": "code",
   "execution_count": 6,
   "source": [
    "for k in sorted(team_ratings_per_season):\r\n",
    "   print(k, \":\")\r\n",
    "   # check if all teams have 4 unique ratings\r\n",
    "   print(\"Does each team have 4 unique ratings?\", all(len(val)==4 for val in team_ratings_per_season[k].values()))\r\n",
    "   print(\"No of teams:\", len(team_ratings_per_season[k]))\r\n",
    "   print('')"
   ],
   "outputs": [
    {
     "output_type": "stream",
     "name": "stdout",
     "text": [
      "10/11 :\n",
      "Does each team have 4 unique ratings? True\n",
      "No of teams: 20\n",
      "\n",
      "11/12 :\n",
      "Does each team have 4 unique ratings? True\n",
      "No of teams: 20\n",
      "\n",
      "12/13 :\n",
      "Does each team have 4 unique ratings? True\n",
      "No of teams: 20\n",
      "\n",
      "13/14 :\n",
      "Does each team have 4 unique ratings? True\n",
      "No of teams: 20\n",
      "\n",
      "14/15 :\n",
      "Does each team have 4 unique ratings? True\n",
      "No of teams: 20\n",
      "\n",
      "15/16 :\n",
      "Does each team have 4 unique ratings? True\n",
      "No of teams: 20\n",
      "\n",
      "16/17 :\n",
      "Does each team have 4 unique ratings? True\n",
      "No of teams: 20\n",
      "\n",
      "17/18 :\n",
      "Does each team have 4 unique ratings? True\n",
      "No of teams: 20\n",
      "\n",
      "18/19 :\n",
      "Does each team have 4 unique ratings? True\n",
      "No of teams: 20\n",
      "\n",
      "19/20 :\n",
      "Does each team have 4 unique ratings? True\n",
      "No of teams: 20\n",
      "\n"
     ]
    }
   ],
   "metadata": {}
  },
  {
   "cell_type": "markdown",
   "source": [
    "## **Storing the final dictionary to be accessed in other Jupyter Notebooks**\r\n",
    "---"
   ],
   "metadata": {}
  },
  {
   "cell_type": "code",
   "execution_count": 7,
   "source": [
    "%store team_ratings_per_season"
   ],
   "outputs": [
    {
     "output_type": "stream",
     "name": "stdout",
     "text": [
      "Stored 'team_ratings_per_season' (dict)\n"
     ]
    }
   ],
   "metadata": {}
  }
 ],
 "metadata": {
  "orig_nbformat": 4,
  "language_info": {
   "name": "python",
   "version": "3.8.7",
   "mimetype": "text/x-python",
   "codemirror_mode": {
    "name": "ipython",
    "version": 3
   },
   "pygments_lexer": "ipython3",
   "nbconvert_exporter": "python",
   "file_extension": ".py"
  },
  "kernelspec": {
   "name": "python3",
   "display_name": "Python 3.8.7 64-bit"
  },
  "interpreter": {
   "hash": "0c5d78a677dc65d78204ff5312d32cbfabd64e2120acf639f3067f1c6e7f34e9"
  }
 },
 "nbformat": 4,
 "nbformat_minor": 2
}